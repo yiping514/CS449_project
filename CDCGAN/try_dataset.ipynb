{
 "cells": [
  {
   "cell_type": "code",
   "execution_count": 1,
   "metadata": {},
   "outputs": [
    {
     "ename": "FileNotFoundError",
     "evalue": "[Errno 2] No such file or directory: 'levels.json'",
     "output_type": "error",
     "traceback": [
      "\u001b[1;31m---------------------------------------------------------------------------\u001b[0m",
      "\u001b[1;31mFileNotFoundError\u001b[0m                         Traceback (most recent call last)",
      "Cell \u001b[1;32mIn[1], line 44\u001b[0m\n\u001b[0;32m     40\u001b[0m         \u001b[39mreturn\u001b[39;00m padded\n\u001b[0;32m     43\u001b[0m \u001b[39mif\u001b[39;00m \u001b[39m__name__\u001b[39m \u001b[39m==\u001b[39m \u001b[39m\"\u001b[39m\u001b[39m__main__\u001b[39m\u001b[39m\"\u001b[39m:\n\u001b[1;32m---> 44\u001b[0m     dataset \u001b[39m=\u001b[39m MarioDataset()\n\u001b[0;32m     45\u001b[0m     \u001b[39mbreakpoint\u001b[39m()\n",
      "Cell \u001b[1;32mIn[1], line 13\u001b[0m, in \u001b[0;36mMarioDataset.__init__\u001b[1;34m(self, file, z_dims)\u001b[0m\n\u001b[0;32m     12\u001b[0m \u001b[39mdef\u001b[39;00m \u001b[39m__init__\u001b[39m(\u001b[39mself\u001b[39m, file\u001b[39m=\u001b[39m\u001b[39m\"\u001b[39m\u001b[39mlevels.json\u001b[39m\u001b[39m\"\u001b[39m, z_dims\u001b[39m=\u001b[39m\u001b[39m13\u001b[39m):\n\u001b[1;32m---> 13\u001b[0m     \u001b[39mself\u001b[39m\u001b[39m.\u001b[39mdata \u001b[39m=\u001b[39m torch\u001b[39m.\u001b[39mFloatTensor(\u001b[39mself\u001b[39;49m\u001b[39m.\u001b[39;49mprep_dataset(file, z_dims))\n\u001b[0;32m     14\u001b[0m     \u001b[39mself\u001b[39m\u001b[39m.\u001b[39mmid_point \u001b[39m=\u001b[39m \u001b[39mself\u001b[39m\u001b[39m.\u001b[39mdata\u001b[39m.\u001b[39mshape[\u001b[39m3\u001b[39m] \u001b[39m/\u001b[39m\u001b[39m/\u001b[39m \u001b[39m2\u001b[39m\n",
      "Cell \u001b[1;32mIn[1], line 31\u001b[0m, in \u001b[0;36mMarioDataset.prep_dataset\u001b[1;34m(self, file, z_dims)\u001b[0m\n\u001b[0;32m     30\u001b[0m \u001b[39mdef\u001b[39;00m \u001b[39mprep_dataset\u001b[39m(\u001b[39mself\u001b[39m, file, z_dims):\n\u001b[1;32m---> 31\u001b[0m     \u001b[39mwith\u001b[39;00m \u001b[39mopen\u001b[39;49m(file, \u001b[39m\"\u001b[39;49m\u001b[39mr\u001b[39;49m\u001b[39m\"\u001b[39;49m) \u001b[39mas\u001b[39;00m fp:\n\u001b[0;32m     32\u001b[0m         levels \u001b[39m=\u001b[39m np\u001b[39m.\u001b[39marray(json\u001b[39m.\u001b[39mload(fp))\n\u001b[0;32m     34\u001b[0m     onehot \u001b[39m=\u001b[39m np\u001b[39m.\u001b[39meye(z_dims, dtype\u001b[39m=\u001b[39m\u001b[39m\"\u001b[39m\u001b[39muint8\u001b[39m\u001b[39m\"\u001b[39m)[\n\u001b[0;32m     35\u001b[0m         levels\n\u001b[0;32m     36\u001b[0m     ]  \u001b[39m# create a one hot mapping for the features\u001b[39;00m\n",
      "File \u001b[1;32m~\\anaconda3\\Lib\\site-packages\\IPython\\core\\interactiveshell.py:282\u001b[0m, in \u001b[0;36m_modified_open\u001b[1;34m(file, *args, **kwargs)\u001b[0m\n\u001b[0;32m    275\u001b[0m \u001b[39mif\u001b[39;00m file \u001b[39min\u001b[39;00m {\u001b[39m0\u001b[39m, \u001b[39m1\u001b[39m, \u001b[39m2\u001b[39m}:\n\u001b[0;32m    276\u001b[0m     \u001b[39mraise\u001b[39;00m \u001b[39mValueError\u001b[39;00m(\n\u001b[0;32m    277\u001b[0m         \u001b[39mf\u001b[39m\u001b[39m\"\u001b[39m\u001b[39mIPython won\u001b[39m\u001b[39m'\u001b[39m\u001b[39mt let you open fd=\u001b[39m\u001b[39m{\u001b[39;00mfile\u001b[39m}\u001b[39;00m\u001b[39m by default \u001b[39m\u001b[39m\"\u001b[39m\n\u001b[0;32m    278\u001b[0m         \u001b[39m\"\u001b[39m\u001b[39mas it is likely to crash IPython. If you know what you are doing, \u001b[39m\u001b[39m\"\u001b[39m\n\u001b[0;32m    279\u001b[0m         \u001b[39m\"\u001b[39m\u001b[39myou can use builtins\u001b[39m\u001b[39m'\u001b[39m\u001b[39m open.\u001b[39m\u001b[39m\"\u001b[39m\n\u001b[0;32m    280\u001b[0m     )\n\u001b[1;32m--> 282\u001b[0m \u001b[39mreturn\u001b[39;00m io_open(file, \u001b[39m*\u001b[39margs, \u001b[39m*\u001b[39m\u001b[39m*\u001b[39mkwargs)\n",
      "\u001b[1;31mFileNotFoundError\u001b[0m: [Errno 2] No such file or directory: 'levels.json'"
     ]
    }
   ],
   "source": [
    "import json\n",
    "from collections import namedtuple\n",
    "\n",
    "import numpy as np\n",
    "import torch\n",
    "from torch.utils.data import DataLoader, Dataset\n",
    "\n",
    "JoinedFrame = namedtuple(\"JoinedFrame\", [\"prev_frame\", \"curr_frame\"])\n",
    "\n",
    "\n",
    "class MarioDataset(Dataset):\n",
    "    def __init__(self, file=\"levels.json\", z_dims=13):\n",
    "        self.data = torch.FloatTensor(self.prep_dataset(file, z_dims))\n",
    "        self.mid_point = self.data.shape[3] // 2\n",
    "\n",
    "    def __len__(self):\n",
    "        return len(self.data)\n",
    "\n",
    "    def __getitem__(self, index):\n",
    "        point = self.data[index]\n",
    "        j_frame = JoinedFrame(\n",
    "            prev_frame=point[:, :, :, : self.mid_point],\n",
    "            curr_frame=point[:, :, :, self.mid_point :],  # (ch=13, h=32,w=16)\n",
    "        )\n",
    "        return j_frame\n",
    "\n",
    "    def cuda(self):\n",
    "        self.data = self.data.to(device=\"cuda\")\n",
    "\n",
    "    def prep_dataset(self, file, z_dims):\n",
    "        with open(file, \"r\") as fp:\n",
    "            levels = np.array(json.load(fp))\n",
    "\n",
    "        onehot = np.eye(z_dims, dtype=\"uint8\")[\n",
    "            levels\n",
    "        ]  # create a one hot mapping for the features\n",
    "        onehot = np.rollaxis(onehot, 3, 1)  # (num_samples, chann.=13, h=14, w=28)\n",
    "        padded = np.full((onehot.shape[0], onehot.shape[1], 32, 32), 0.0)\n",
    "        padded[:, :, 9:-9, 2:-2] = onehot\n",
    "        return padded\n",
    "\n",
    "\n",
    "if __name__ == \"__main__\":\n",
    "    dataset = MarioDataset()\n",
    "    breakpoint()\n"
   ]
  }
 ],
 "metadata": {
  "kernelspec": {
   "display_name": "cs449_project",
   "language": "python",
   "name": "python3"
  },
  "language_info": {
   "codemirror_mode": {
    "name": "ipython",
    "version": 3
   },
   "file_extension": ".py",
   "mimetype": "text/x-python",
   "name": "python",
   "nbconvert_exporter": "python",
   "pygments_lexer": "ipython3",
   "version": "3.9.0"
  },
  "orig_nbformat": 4
 },
 "nbformat": 4,
 "nbformat_minor": 2
}
