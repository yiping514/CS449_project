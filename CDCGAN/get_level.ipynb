{
 "cells": [
  {
   "cell_type": "code",
   "execution_count": 18,
   "metadata": {},
   "outputs": [
    {
     "name": "stdout",
     "output_type": "stream",
     "text": [
      "[[2 2 2 ... 2 2 2]\n",
      " [2 2 2 ... 2 2 2]\n",
      " [2 1 1 ... 2 2 2]\n",
      " ...\n",
      " [2 2 2 ... 2 0 2]\n",
      " [2 2 2 ... 2 0 2]\n",
      " [2 0 0 ... 0 0 0]]\n"
     ]
    }
   ],
   "source": [
    "! python get_level.py --cuda\n",
    "from IPython.display import Image\n",
    "#Image('trial_level.png')"
   ]
  }
 ],
 "metadata": {
  "kernelspec": {
   "display_name": "cs449_project",
   "language": "python",
   "name": "python3"
  },
  "language_info": {
   "codemirror_mode": {
    "name": "ipython",
    "version": 3
   },
   "file_extension": ".py",
   "mimetype": "text/x-python",
   "name": "python",
   "nbconvert_exporter": "python",
   "pygments_lexer": "ipython3",
   "version": "3.9.16"
  },
  "orig_nbformat": 4
 },
 "nbformat": 4,
 "nbformat_minor": 2
}
